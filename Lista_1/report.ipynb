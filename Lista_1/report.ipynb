{
 "cells": [
  {
   "cell_type": "markdown",
   "metadata": {},
   "source": [
    "# Imports"
   ]
  },
  {
   "cell_type": "code",
   "execution_count": 4,
   "metadata": {},
   "outputs": [],
   "source": [
    "import dijkstra\n",
    "import astar\n",
    "import pandas\n",
    "import data_loader\n",
    "import timer\n",
    "import cli_utils"
   ]
  },
  {
   "cell_type": "markdown",
   "metadata": {},
   "source": [
    "# Loading data"
   ]
  },
  {
   "cell_type": "code",
   "execution_count": 5,
   "metadata": {},
   "outputs": [],
   "source": [
    "graph= data_loader.load_data_to_graph(normalize_coordinates=True)\n",
    "graph_dict = graph.graph_dict"
   ]
  },
  {
   "cell_type": "markdown",
   "metadata": {},
   "source": [
    "# Test data"
   ]
  },
  {
   "cell_type": "code",
   "execution_count": 6,
   "metadata": {},
   "outputs": [],
   "source": [
    "bus_stops = [\n",
    "    ('wrocławski park przemysłowy','pl. grunwaldzki'),\n",
    "    ('grabiszyńska','pl. daniłowskiego'),\n",
    "    ('kwiska','pl. grunwaldzki'),\n",
    "    ('krzyki','leśnica'),\n",
    "    ('leśnica','biskupin'),\n",
    "    ('wrocławski park przemysłowy','dworzec autobusowy'),\n",
    "    ('fat','osiedle sobieskiego')\n",
    "]\n",
    "bus_stops_test_data = [(graph_dict[start_stop], graph_dict[end_stop]) for start_stop, end_stop in bus_stops]\n",
    "\n",
    "start_times = ['9:00','9:15','9:30', '2:00', '2:15', '2:30']\n",
    "start_times_test_data = [cli_utils.normalize_input_time(time) for time in start_times]"
   ]
  },
  {
   "cell_type": "markdown",
   "metadata": {},
   "source": [
    "# Data analysis"
   ]
  },
  {
   "cell_type": "code",
   "execution_count": 8,
   "metadata": {},
   "outputs": [],
   "source": [
    "data = []\n",
    "configs = {\n",
    "    'Dijkstra for time' : lambda start_stop, end_stop, start_time: dijkstra.shortest_path(graph_dict=graph_dict, start_stop=start_stop, goal_stop=end_stop, start_time=start_time, cost_fn=dijkstra.DEFAULT_COST_FUNCTION),\n",
    "    'A* for time' : lambda start_stop, end_stop, start_time: astar.astar(start=start_stop, goal=end_stop, start_time=start_time, cost_fn=astar.TIME_COST_FUNCTION, heuristic_fn=astar.TIME_HEURISTIC),\n",
    "    'A* for line changes' : lambda start_stop, end_stop, start_time: astar.astar(start=start_stop, goal=end_stop, start_time=start_time, cost_fn=astar.LINE_CHANGE_COST_FUNCTION, heuristic_fn=astar.LINE_CHANGE_HEURISTIC)\n",
    "}\n",
    "\n",
    "timer = timer.Timer()\n",
    "\n",
    "for start_time in start_times_test_data:\n",
    "    for start_stop, end_stop in bus_stops_test_data:\n",
    "        for config_name, function in configs.items():\n",
    "            \n",
    "            cost, _ = timer.run(lambda : function(start_stop, end_stop, start_time))\n",
    "            computation_time = timer.elapsed_time\n",
    "            \n",
    "            record = config_name, start_stop, end_stop, start_time, cost, computation_time\n",
    "            data.append(record)"
   ]
  }
 ],
 "metadata": {
  "kernelspec": {
   "display_name": ".venv",
   "language": "python",
   "name": "python3"
  },
  "language_info": {
   "codemirror_mode": {
    "name": "ipython",
    "version": 3
   },
   "file_extension": ".py",
   "mimetype": "text/x-python",
   "name": "python",
   "nbconvert_exporter": "python",
   "pygments_lexer": "ipython3",
   "version": "3.11.2"
  }
 },
 "nbformat": 4,
 "nbformat_minor": 2
}
