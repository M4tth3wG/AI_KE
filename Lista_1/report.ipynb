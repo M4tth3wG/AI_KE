{
 "cells": [
  {
   "cell_type": "markdown",
   "metadata": {},
   "source": [
    "# Imports"
   ]
  },
  {
   "cell_type": "code",
   "execution_count": 8,
   "metadata": {},
   "outputs": [],
   "source": [
    "import dijkstra\n",
    "import astar\n",
    "import pandas\n",
    "import data_loader\n",
    "import timer\n",
    "import cli_utils"
   ]
  },
  {
   "cell_type": "markdown",
   "metadata": {},
   "source": [
    "# Loading data"
   ]
  },
  {
   "cell_type": "code",
   "execution_count": 9,
   "metadata": {},
   "outputs": [],
   "source": [
    "graph= data_loader.load_data_to_graph(normalize_coordinates=True)\n",
    "graph_dict = graph.graph_dict"
   ]
  },
  {
   "cell_type": "markdown",
   "metadata": {},
   "source": [
    "# Test data"
   ]
  },
  {
   "cell_type": "code",
   "execution_count": 10,
   "metadata": {},
   "outputs": [],
   "source": [
    "bus_stops = [\n",
    "    ('wrocławski park przemysłowy','pl. grunwaldzki'),\n",
    "    ('grabiszyńska','pl. daniłowskiego'),\n",
    "    ('kwiska','pl. grunwaldzki'),\n",
    "    ('krzyki','leśnica'),\n",
    "    ('leśnica','biskupin'),\n",
    "    ('wrocławski park przemysłowy','dworzec autobusowy'),\n",
    "    ('fat','osiedle sobieskiego')\n",
    "]\n",
    "bus_stops_test_data = [(graph_dict[start_stop], graph_dict[end_stop]) for start_stop, end_stop in bus_stops]\n",
    "\n",
    "start_times = ['9:00','9:15','9:30', '2:00', '2:15', '2:30']\n",
    "start_times_test_data = [cli_utils.normalize_input_time(time) for time in start_times]"
   ]
  },
  {
   "cell_type": "markdown",
   "metadata": {},
   "source": [
    "# Data analysis"
   ]
  },
  {
   "cell_type": "code",
   "execution_count": 12,
   "metadata": {},
   "outputs": [],
   "source": [
    "data = []\n",
    "\n",
    "for start_time in start_times_test_data:\n",
    "    for start_stop, end_stop in bus_stops_test_data:\n",
    "        pass"
   ]
  }
 ],
 "metadata": {
  "kernelspec": {
   "display_name": ".venv",
   "language": "python",
   "name": "python3"
  },
  "language_info": {
   "codemirror_mode": {
    "name": "ipython",
    "version": 3
   },
   "file_extension": ".py",
   "mimetype": "text/x-python",
   "name": "python",
   "nbconvert_exporter": "python",
   "pygments_lexer": "ipython3",
   "version": "3.11.2"
  }
 },
 "nbformat": 4,
 "nbformat_minor": 2
}
